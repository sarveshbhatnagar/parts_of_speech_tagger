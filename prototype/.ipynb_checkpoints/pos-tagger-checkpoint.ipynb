{
 "cells": [
  {
   "cell_type": "code",
   "execution_count": 186,
   "metadata": {},
   "outputs": [],
   "source": [
    "import pandas as pd"
   ]
  },
  {
   "cell_type": "code",
   "execution_count": 187,
   "metadata": {},
   "outputs": [],
   "source": [
    "with open(\"POS.train\",\"r\") as f:\n",
    "    myfile = f.read()"
   ]
  },
  {
   "cell_type": "code",
   "execution_count": 188,
   "metadata": {},
   "outputs": [],
   "source": [
    "lines = myfile.split(\"\\n\")"
   ]
  },
  {
   "cell_type": "markdown",
   "metadata": {},
   "source": [
    "# Tasks\n",
    "\n",
    "* Read, done\n",
    "* Split to sentences Done\n",
    "* Add a Label \"Start/BEG\" to denote beginning of the sentence\n",
    "* While we are at it, add \\</s> END to denote end of sentence"
   ]
  },
  {
   "cell_type": "code",
   "execution_count": 189,
   "metadata": {},
   "outputs": [
    {
     "data": {
      "text/plain": [
       "10001"
      ]
     },
     "execution_count": 189,
     "metadata": {},
     "output_type": "execute_result"
    }
   ],
   "source": [
    "len(lines)"
   ]
  },
  {
   "cell_type": "code",
   "execution_count": null,
   "metadata": {},
   "outputs": [],
   "source": []
  },
  {
   "cell_type": "code",
   "execution_count": 190,
   "metadata": {},
   "outputs": [],
   "source": [
    "def add_start_end(line):\n",
    "    \"\"\"\n",
    "    Adds a START/START token at the beginning of the sentence and END/END token at the end of sentence\n",
    "    \"\"\"\n",
    "    line = \"linestartshere/START \"+line+ \"lineendshere/END\"\n",
    "    return line"
   ]
  },
  {
   "cell_type": "code",
   "execution_count": 191,
   "metadata": {},
   "outputs": [],
   "source": [
    "lines= [add_start_end(l) for l in lines]"
   ]
  },
  {
   "cell_type": "code",
   "execution_count": null,
   "metadata": {},
   "outputs": [],
   "source": []
  },
  {
   "cell_type": "code",
   "execution_count": 192,
   "metadata": {},
   "outputs": [
    {
     "data": {
      "text/plain": [
       "'linestartshere/START Pierre/NP Vinken/NP ,/, 61/CD years/NNS old/JJ ,/, will/MD join/VB the/DT board/NN as/IN a/DT nonexecutive/JJ director/NN Nov./NP 29/CD ./. lineendshere/END'"
      ]
     },
     "execution_count": 192,
     "metadata": {},
     "output_type": "execute_result"
    }
   ],
   "source": [
    "lines[0]"
   ]
  },
  {
   "cell_type": "code",
   "execution_count": 193,
   "metadata": {},
   "outputs": [
    {
     "data": {
      "text/plain": [
       "['Pierre', 'NP']"
      ]
     },
     "execution_count": 193,
     "metadata": {},
     "output_type": "execute_result"
    }
   ],
   "source": [
    "pos_unfiltered[0].split(\"/\")"
   ]
  },
  {
   "cell_type": "code",
   "execution_count": 194,
   "metadata": {},
   "outputs": [],
   "source": [
    "def split_label(tok):\n",
    "    return tuple(tok.split(\"/\"))"
   ]
  },
  {
   "cell_type": "code",
   "execution_count": 195,
   "metadata": {},
   "outputs": [],
   "source": [
    "pos = [split_label(i) for line in lines for i in line.split(\" \")]"
   ]
  },
  {
   "cell_type": "code",
   "execution_count": 196,
   "metadata": {},
   "outputs": [
    {
     "data": {
      "text/plain": [
       "'DT'"
      ]
     },
     "execution_count": 196,
     "metadata": {},
     "output_type": "execute_result"
    }
   ],
   "source": [
    "pos[102][1]"
   ]
  },
  {
   "cell_type": "code",
   "execution_count": 197,
   "metadata": {},
   "outputs": [],
   "source": [
    "lis = []\n",
    "for i in range(1,len(pos)):\n",
    "    lis.append((pos[i-1][1],pos[i][1]))"
   ]
  },
  {
   "cell_type": "code",
   "execution_count": 198,
   "metadata": {},
   "outputs": [
    {
     "data": {
      "text/plain": [
       "('CD', 'NNS')"
      ]
     },
     "execution_count": 198,
     "metadata": {},
     "output_type": "execute_result"
    }
   ],
   "source": [
    "lis[4]"
   ]
  },
  {
   "cell_type": "code",
   "execution_count": null,
   "metadata": {},
   "outputs": [],
   "source": []
  },
  {
   "cell_type": "markdown",
   "metadata": {},
   "source": [
    "# Now we have tag bigrams"
   ]
  },
  {
   "cell_type": "code",
   "execution_count": 265,
   "metadata": {},
   "outputs": [],
   "source": [
    "from collections import Counter\n",
    "from collections import defaultdict"
   ]
  },
  {
   "cell_type": "code",
   "execution_count": 200,
   "metadata": {},
   "outputs": [],
   "source": [
    "tag_emmission = Counter(lis)"
   ]
  },
  {
   "cell_type": "code",
   "execution_count": 201,
   "metadata": {},
   "outputs": [
    {
     "data": {
      "text/plain": [
       "9070"
      ]
     },
     "execution_count": 201,
     "metadata": {},
     "output_type": "execute_result"
    }
   ],
   "source": [
    "tag_emmission[(\"NP\",\"NP\")]"
   ]
  },
  {
   "cell_type": "code",
   "execution_count": 202,
   "metadata": {},
   "outputs": [],
   "source": [
    "lpos = len(pos)"
   ]
  },
  {
   "cell_type": "code",
   "execution_count": 203,
   "metadata": {},
   "outputs": [
    {
     "data": {
      "text/plain": [
       "262263"
      ]
     },
     "execution_count": 203,
     "metadata": {},
     "output_type": "execute_result"
    }
   ],
   "source": [
    "lpos"
   ]
  },
  {
   "cell_type": "code",
   "execution_count": 204,
   "metadata": {},
   "outputs": [],
   "source": [
    "def get_tag_transition_prob(tag1,tag2):\n",
    "    return tag_emmission[(tag1,tag2)]/(lpos-1)"
   ]
  },
  {
   "cell_type": "code",
   "execution_count": 205,
   "metadata": {},
   "outputs": [
    {
     "data": {
      "text/plain": [
       "0.0013688601474861016"
      ]
     },
     "execution_count": 205,
     "metadata": {},
     "output_type": "execute_result"
    }
   ],
   "source": [
    "get_tag_transition_prob(\"START\",\"NN\")"
   ]
  },
  {
   "cell_type": "markdown",
   "metadata": {},
   "source": [
    "# Now calculate tag emmission\n",
    "\n",
    "* calculate total number of each tags.\n",
    "* calculate word, tag count\n",
    "* make function.\n",
    "\n",
    "* possible tags for each word"
   ]
  },
  {
   "cell_type": "code",
   "execution_count": 206,
   "metadata": {},
   "outputs": [],
   "source": [
    "tags = [i[1] for i in pos]"
   ]
  },
  {
   "cell_type": "code",
   "execution_count": 207,
   "metadata": {},
   "outputs": [],
   "source": [
    "tag_count = Counter(tags)"
   ]
  },
  {
   "cell_type": "code",
   "execution_count": 208,
   "metadata": {},
   "outputs": [
    {
     "data": {
      "text/plain": [
       "21185"
      ]
     },
     "execution_count": 208,
     "metadata": {},
     "output_type": "execute_result"
    }
   ],
   "source": [
    "tag_count[\"DT\"]"
   ]
  },
  {
   "cell_type": "code",
   "execution_count": 209,
   "metadata": {},
   "outputs": [],
   "source": [
    "tag_emmission_counts = Counter(pos)"
   ]
  },
  {
   "cell_type": "code",
   "execution_count": 229,
   "metadata": {},
   "outputs": [],
   "source": [
    "def get_tag_emmission_prob(word,tag):\n",
    "    \"\"\"NOTE D DEFINED BELOWWWWW\"\"\"\n",
    "    return (tag_emmission_counts[(word,tag)]+1)/(tag_count[tag]+len(d))"
   ]
  },
  {
   "cell_type": "code",
   "execution_count": 211,
   "metadata": {},
   "outputs": [
    {
     "data": {
      "text/plain": [
       "0.0003304224687278735"
      ]
     },
     "execution_count": 211,
     "metadata": {},
     "output_type": "execute_result"
    }
   ],
   "source": [
    "get_tag_emmission_prob(\"THE\",\"DT\")"
   ]
  },
  {
   "cell_type": "code",
   "execution_count": null,
   "metadata": {},
   "outputs": [],
   "source": []
  },
  {
   "cell_type": "markdown",
   "metadata": {},
   "source": [
    "# What tags can a word take?\n",
    "\n",
    "maintain a set for each word... we will need it.\n",
    "\n",
    "ALSO for DEFAULT POLICY, ASSIGN NP if first letter capital otherwise NN."
   ]
  },
  {
   "cell_type": "code",
   "execution_count": 212,
   "metadata": {},
   "outputs": [],
   "source": [
    "d=dict()"
   ]
  },
  {
   "cell_type": "code",
   "execution_count": 213,
   "metadata": {},
   "outputs": [],
   "source": [
    "for i in pos:\n",
    "    if(i[0] in d):\n",
    "        d[i[0]].add(i[1])\n",
    "    else:\n",
    "        d[i[0]] = set({i[1]})"
   ]
  },
  {
   "cell_type": "code",
   "execution_count": 214,
   "metadata": {},
   "outputs": [
    {
     "data": {
      "text/plain": [
       "{'NP'}"
      ]
     },
     "execution_count": 214,
     "metadata": {},
     "output_type": "execute_result"
    }
   ],
   "source": [
    "d[\"START\"]"
   ]
  },
  {
   "cell_type": "code",
   "execution_count": 222,
   "metadata": {},
   "outputs": [],
   "source": [
    "def default_policy(word):\n",
    "    \"\"\"\n",
    "    General policy is that if the first char is uppercase make it a NP otherwise NN.\n",
    "    We can change it in multiple ways but since most of the unknown might be NP or NN it would be fine.\n",
    "    \"\"\"\n",
    "    if(word[0].isupper()):\n",
    "        return {\"NP\"}\n",
    "    else:\n",
    "        return {\"NN\"}"
   ]
  },
  {
   "cell_type": "code",
   "execution_count": null,
   "metadata": {},
   "outputs": [],
   "source": []
  },
  {
   "cell_type": "code",
   "execution_count": 223,
   "metadata": {},
   "outputs": [],
   "source": [
    "def get_tag(word):\n",
    "    if(word in d):\n",
    "        return d[word]\n",
    "    else:\n",
    "        return default_policy(word)"
   ]
  },
  {
   "cell_type": "code",
   "execution_count": null,
   "metadata": {},
   "outputs": [],
   "source": []
  },
  {
   "cell_type": "markdown",
   "metadata": {},
   "source": [
    "# Actual Code for Viterbi\n",
    "\n",
    "* tag_transition x tag_emmission"
   ]
  },
  {
   "cell_type": "code",
   "execution_count": 251,
   "metadata": {},
   "outputs": [],
   "source": [
    "myword = \"hope\"\n",
    "mytagset = {}\n"
   ]
  },
  {
   "cell_type": "code",
   "execution_count": 252,
   "metadata": {},
   "outputs": [],
   "source": [
    "my_tags = get_tag(myword)"
   ]
  },
  {
   "cell_type": "code",
   "execution_count": 255,
   "metadata": {},
   "outputs": [
    {
     "name": "stdout",
     "output_type": "stream",
     "text": [
      "VB 7.155379056205503e-05\n",
      "VBP 0.0006561141638645124\n",
      "NN 0.00023636363636363636\n"
     ]
    }
   ],
   "source": [
    "for tag in my_tags:\n",
    "    print(tag,get_tag_emmission_prob(myword,tag))"
   ]
  },
  {
   "cell_type": "code",
   "execution_count": 254,
   "metadata": {},
   "outputs": [
    {
     "data": {
      "text/plain": [
       "{'NN', 'VB', 'VBP'}"
      ]
     },
     "execution_count": 254,
     "metadata": {},
     "output_type": "execute_result"
    }
   ],
   "source": [
    "my_tags"
   ]
  },
  {
   "cell_type": "code",
   "execution_count": 257,
   "metadata": {},
   "outputs": [
    {
     "data": {
      "text/plain": [
       "'linestartshere/START Pierre/NP Vinken/NP ,/, 61/CD years/NNS old/JJ ,/, will/MD join/VB the/DT board/NN as/IN a/DT nonexecutive/JJ director/NN Nov./NP 29/CD ./. lineendshere/END'"
      ]
     },
     "execution_count": 257,
     "metadata": {},
     "output_type": "execute_result"
    }
   ],
   "source": [
    "lines[0]"
   ]
  },
  {
   "cell_type": "code",
   "execution_count": 258,
   "metadata": {},
   "outputs": [],
   "source": [
    "my_test_str = \"linestartshere Pierre Vinken , 61 years old , will join the board as a nonexecutive director Nov.\""
   ]
  },
  {
   "cell_type": "markdown",
   "metadata": {},
   "source": [
    "# My PLAN on how to implement it.\n",
    "\n",
    "Ok. So we have this old_tag_set, we want to create a default dictionary that will keep maximum value for word_tag_set. so it will hold float, we want to keep max. transitions will be something like this, all elements in set a multiplied by all elements in set b.\n",
    "\n",
    "Okay, so for the list part lets store the word \n",
    "\n",
    "Oh I so much wish dictionary were ordered so I could have passed two dictionary alongside...\n",
    "\n",
    "DAMN too hard. I will have to make my own DataStructure I guess..."
   ]
  },
  {
   "cell_type": "code",
   "execution_count": 344,
   "metadata": {},
   "outputs": [],
   "source": [
    "class POS_WORD():\n",
    "    def __init__(self,tags,value,from_tag=\"\"):\n",
    "        self.current_value = value\n",
    "        self.tags = tags\n",
    "        self.from_tag = from_tag\n",
    "        self.pval = 1\n",
    "        \n",
    "    def make_one_transition(self,tag1,tag2,word):\n",
    "        \"\"\"\n",
    "        Simple, previously calculated max value * transition * emmission\n",
    "\n",
    "        :params tag1,tag2,word,pval:\n",
    "        :returns value:\n",
    "        \"\"\"\n",
    "        return self.pval * get_tag_transition_prob(tag1,tag2) * get_tag_emmission_prob(word,tag2)\n",
    "        \n",
    "        \n",
    "    def add_tag(self,tag,word):\n",
    "        \"\"\"Creates new entry\"\"\"\n",
    "        self.pval = self.current_value\n",
    "        self.from_tag = self.tags[-1] if len(self.tags) >= 1 else \"START\"\n",
    "        self.current_value = self.make_one_transition(self.from_tag,tag,word)\n",
    "        self.tags.append(tag)\n",
    "    \n",
    "    def update_tag(self,tag,word):\n",
    "        \"\"\"Updates existing entry if needed\"\"\"\n",
    "        \n",
    "        val = self.make_one_transition(self.from_tag,tag,word)\n",
    "        if(self.current_value<val):\n",
    "            self.current_value = val\n",
    "            self.tags[-1] = tag\n",
    "            \n",
    "    def get_params(self):\n",
    "        \"\"\"\n",
    "        I will use it to copy this class.\n",
    "        \"\"\"\n",
    "        return self.tags.copy(), self.current_value\n",
    "    \n",
    "    \n",
    "    "
   ]
  },
  {
   "cell_type": "code",
   "execution_count": 345,
   "metadata": {},
   "outputs": [],
   "source": [
    "p = POS_WORD([],1,\"\")"
   ]
  },
  {
   "cell_type": "code",
   "execution_count": 346,
   "metadata": {},
   "outputs": [],
   "source": [
    "p.add_tag(\"VB\",\"hope\")"
   ]
  },
  {
   "cell_type": "code",
   "execution_count": 347,
   "metadata": {},
   "outputs": [
    {
     "data": {
      "text/plain": [
       "(['VB'], 9.276330078737563e-09)"
      ]
     },
     "execution_count": 347,
     "metadata": {},
     "output_type": "execute_result"
    }
   ],
   "source": [
    "p.get_params()"
   ]
  },
  {
   "cell_type": "code",
   "execution_count": 348,
   "metadata": {},
   "outputs": [
    {
     "data": {
      "text/plain": [
       "'START'"
      ]
     },
     "execution_count": 348,
     "metadata": {},
     "output_type": "execute_result"
    }
   ],
   "source": [
    "p.from_tag"
   ]
  },
  {
   "cell_type": "code",
   "execution_count": 349,
   "metadata": {},
   "outputs": [],
   "source": [
    "p.update_tag(\"NN\",\"hope\")"
   ]
  },
  {
   "cell_type": "code",
   "execution_count": null,
   "metadata": {},
   "outputs": [],
   "source": []
  },
  {
   "cell_type": "code",
   "execution_count": 350,
   "metadata": {},
   "outputs": [
    {
     "data": {
      "text/plain": [
       "(['NN'], 3.235487621330786e-07)"
      ]
     },
     "execution_count": 350,
     "metadata": {},
     "output_type": "execute_result"
    }
   ],
   "source": [
    "p.get_params()"
   ]
  },
  {
   "cell_type": "code",
   "execution_count": null,
   "metadata": {},
   "outputs": [],
   "source": []
  },
  {
   "cell_type": "code",
   "execution_count": 351,
   "metadata": {},
   "outputs": [
    {
     "data": {
      "text/plain": [
       "'START'"
      ]
     },
     "execution_count": 351,
     "metadata": {},
     "output_type": "execute_result"
    }
   ],
   "source": [
    "p.from_tag"
   ]
  },
  {
   "cell_type": "code",
   "execution_count": 352,
   "metadata": {},
   "outputs": [],
   "source": [
    "# Second round\n",
    "\n",
    "p.add_tag(\"DT\",\"is\")"
   ]
  },
  {
   "cell_type": "code",
   "execution_count": 353,
   "metadata": {},
   "outputs": [
    {
     "data": {
      "text/plain": [
       "(['NN', 'DT'], 6.816745365399438e-15)"
      ]
     },
     "execution_count": 353,
     "metadata": {},
     "output_type": "execute_result"
    }
   ],
   "source": [
    "p.get_params()"
   ]
  },
  {
   "cell_type": "code",
   "execution_count": 354,
   "metadata": {},
   "outputs": [
    {
     "data": {
      "text/plain": [
       "'NN'"
      ]
     },
     "execution_count": 354,
     "metadata": {},
     "output_type": "execute_result"
    }
   ],
   "source": [
    "p.from_tag"
   ]
  },
  {
   "cell_type": "code",
   "execution_count": null,
   "metadata": {},
   "outputs": [],
   "source": []
  },
  {
   "cell_type": "code",
   "execution_count": null,
   "metadata": {},
   "outputs": [],
   "source": []
  },
  {
   "cell_type": "code",
   "execution_count": 266,
   "metadata": {},
   "outputs": [],
   "source": [
    "def returns_zero():\n",
    "    return 0"
   ]
  },
  {
   "cell_type": "code",
   "execution_count": null,
   "metadata": {},
   "outputs": [],
   "source": []
  },
  {
   "cell_type": "code",
   "execution_count": 259,
   "metadata": {},
   "outputs": [],
   "source": [
    "def make_transition(old_tag_set={\"START\":POS_WORD([],1,\"\")}, word):\n",
    "    # contains tag set for word under consideration\n",
    "    word_tag_set = get_tag(word)\n",
    "#     word_tag_value_holder = defaultdict(returns_zero)\n",
    "    # lol idea of default dict looks neat but no please...\n",
    "    word_tag_value_holder = dict()\n",
    "    \n",
    "    \n",
    "    \n",
    "    # should return current tag_set"
   ]
  },
  {
   "cell_type": "code",
   "execution_count": 263,
   "metadata": {},
   "outputs": [],
   "source": [
    "def make_one_transition(tag1,tag2,word,pval=1):\n",
    "    \"\"\"\n",
    "    Simple, previously calculated max value * transition * emmission\n",
    "    \n",
    "    :params tag1,tag2,word,pval:\n",
    "    :returns value:\n",
    "    \"\"\"\n",
    "    return pval * get_tag_transition_prob(tag1,tag2) * get_tag_emmission_prob(word,tag2)"
   ]
  },
  {
   "cell_type": "code",
   "execution_count": 264,
   "metadata": {},
   "outputs": [
    {
     "data": {
      "text/plain": [
       "2.488836631792912e-08"
      ]
     },
     "execution_count": 264,
     "metadata": {},
     "output_type": "execute_result"
    }
   ],
   "source": [
    "make_one_transition(\"START\",\"NN\",\"Sarvesh\") #Yay it works."
   ]
  },
  {
   "cell_type": "code",
   "execution_count": null,
   "metadata": {},
   "outputs": [],
   "source": []
  },
  {
   "cell_type": "code",
   "execution_count": null,
   "metadata": {},
   "outputs": [],
   "source": []
  },
  {
   "cell_type": "code",
   "execution_count": null,
   "metadata": {},
   "outputs": [],
   "source": []
  },
  {
   "cell_type": "code",
   "execution_count": null,
   "metadata": {},
   "outputs": [],
   "source": []
  },
  {
   "cell_type": "code",
   "execution_count": null,
   "metadata": {},
   "outputs": [],
   "source": []
  },
  {
   "cell_type": "markdown",
   "metadata": {},
   "source": [
    "# TRY 3"
   ]
  },
  {
   "cell_type": "code",
   "execution_count": 391,
   "metadata": {},
   "outputs": [],
   "source": [
    "class POS_Holder():\n",
    "    def __init__(self,tags,c_val):\n",
    "        self.tags = tags\n",
    "        self.c_val = c_val\n",
    "        \n",
    "    def get_last_tag(self):\n",
    "        return self.tags[-1]\n",
    "    \n",
    "    def get_c_val(self):\n",
    "        return self.c_val\n",
    "    \n",
    "    def get_params(self,tag,mval):\n",
    "        t = self.tags.copy()\n",
    "        t.append(tag)\n",
    "        return t,mval\n",
    "        "
   ]
  },
  {
   "cell_type": "code",
   "execution_count": 363,
   "metadata": {},
   "outputs": [],
   "source": [
    "a= POS_Holder([\"START\"],1)"
   ]
  },
  {
   "cell_type": "code",
   "execution_count": 364,
   "metadata": {},
   "outputs": [
    {
     "data": {
      "text/plain": [
       "'START'"
      ]
     },
     "execution_count": 364,
     "metadata": {},
     "output_type": "execute_result"
    }
   ],
   "source": [
    "a.get_last_tag()"
   ]
  },
  {
   "cell_type": "code",
   "execution_count": 432,
   "metadata": {},
   "outputs": [],
   "source": [
    "mval = 0"
   ]
  },
  {
   "cell_type": "code",
   "execution_count": 433,
   "metadata": {},
   "outputs": [],
   "source": [
    "plis = [POS_Holder([\"NN\"],0.1),POS_Holder([\"VB\"],0.1)]\n",
    "\n",
    "next_word = \"hope\"\n",
    "# next_tag = \"NN\"\n",
    "\n",
    "next_dict = dict()\n",
    "\n",
    "word_tag_set = get_tag(next_word)\n",
    "for next_tag in word_tag_set:\n",
    "    for i in plis:\n",
    "\n",
    "        calc = make_one_transition(i.get_last_tag(),next_tag,next_word,pval=i.get_c_val())\n",
    "\n",
    "        if(calc>mval):\n",
    "            mval=calc\n",
    "            ref = i\n",
    "    params = ref.get_params(next_tag,mval)\n",
    "    next_dict[next_tag] = POS_Holder(params[0],params[1])\n",
    "    \n"
   ]
  },
  {
   "cell_type": "code",
   "execution_count": 434,
   "metadata": {},
   "outputs": [
    {
     "data": {
      "text/plain": [
       "{'VB': <__main__.POS_Holder at 0x7fed4e93ce10>,\n",
       " 'VBP': <__main__.POS_Holder at 0x7fed483f3a10>,\n",
       " 'NN': <__main__.POS_Holder at 0x7fed479af590>}"
      ]
     },
     "execution_count": 434,
     "metadata": {},
     "output_type": "execute_result"
    }
   ],
   "source": [
    "next_dict"
   ]
  },
  {
   "cell_type": "code",
   "execution_count": 439,
   "metadata": {},
   "outputs": [
    {
     "data": {
      "text/plain": [
       "['NN', 'VB']"
      ]
     },
     "execution_count": 439,
     "metadata": {},
     "output_type": "execute_result"
    }
   ],
   "source": [
    "list(next_dict.values())[0].tags"
   ]
  },
  {
   "cell_type": "code",
   "execution_count": 417,
   "metadata": {},
   "outputs": [
    {
     "data": {
      "text/plain": [
       "(['VB', 'NN'], 3.8573501446506305e-07)"
      ]
     },
     "execution_count": 417,
     "metadata": {},
     "output_type": "execute_result"
    }
   ],
   "source": [
    "# POS_Holder(params[0],params[1])\n",
    "params"
   ]
  },
  {
   "cell_type": "code",
   "execution_count": 380,
   "metadata": {},
   "outputs": [
    {
     "data": {
      "text/plain": [
       "7.698477788692917e-07"
      ]
     },
     "execution_count": 380,
     "metadata": {},
     "output_type": "execute_result"
    }
   ],
   "source": [
    "mval"
   ]
  },
  {
   "cell_type": "code",
   "execution_count": 442,
   "metadata": {},
   "outputs": [],
   "source": [
    "def step(next_word,plis=[POS_Holder([\"START\"],1)]):\n",
    "    next_dict = dict()\n",
    "    word_tag_set = get_tag(next_word)\n",
    "    for next_tag in word_tag_set:\n",
    "        mval = 0\n",
    "        for i in plis:\n",
    "            calc = make_one_transition(i.get_last_tag(),next_tag,next_word,pval=i.get_c_val())\n",
    "            if(calc>mval):\n",
    "                mval=calc\n",
    "                ref = i\n",
    "        params = ref.get_params(next_tag,mval)\n",
    "        next_dict[next_tag] = POS_Holder(params[0],params[1])\n",
    "        \n",
    "    return list(next_dict.values())"
   ]
  },
  {
   "cell_type": "code",
   "execution_count": 467,
   "metadata": {},
   "outputs": [],
   "source": [
    "one = step(\"I\")"
   ]
  },
  {
   "cell_type": "code",
   "execution_count": 468,
   "metadata": {},
   "outputs": [
    {
     "data": {
      "text/plain": [
       "['START', 'NP']"
      ]
     },
     "execution_count": 468,
     "metadata": {},
     "output_type": "execute_result"
    }
   ],
   "source": [
    "one[0].tags"
   ]
  },
  {
   "cell_type": "code",
   "execution_count": 469,
   "metadata": {},
   "outputs": [
    {
     "data": {
      "text/plain": [
       "['START', 'PP']"
      ]
     },
     "execution_count": 469,
     "metadata": {},
     "output_type": "execute_result"
    }
   ],
   "source": [
    "one[1].tags"
   ]
  },
  {
   "cell_type": "code",
   "execution_count": null,
   "metadata": {},
   "outputs": [],
   "source": []
  },
  {
   "cell_type": "code",
   "execution_count": 471,
   "metadata": {},
   "outputs": [],
   "source": [
    "two = step(\"am\",one)"
   ]
  },
  {
   "cell_type": "code",
   "execution_count": 472,
   "metadata": {},
   "outputs": [
    {
     "data": {
      "text/plain": [
       "['START', 'PP', 'VBP']"
      ]
     },
     "execution_count": 472,
     "metadata": {},
     "output_type": "execute_result"
    }
   ],
   "source": [
    "two[0].tags"
   ]
  },
  {
   "cell_type": "code",
   "execution_count": null,
   "metadata": {},
   "outputs": [],
   "source": []
  },
  {
   "cell_type": "code",
   "execution_count": 474,
   "metadata": {},
   "outputs": [],
   "source": [
    "three = step(\"Sarvesh\",two)"
   ]
  },
  {
   "cell_type": "code",
   "execution_count": 475,
   "metadata": {},
   "outputs": [],
   "source": [
    "four = step(\"Bhatnagar\",three)"
   ]
  },
  {
   "cell_type": "code",
   "execution_count": 477,
   "metadata": {},
   "outputs": [
    {
     "data": {
      "text/plain": [
       "2.3245807345404713e-25"
      ]
     },
     "execution_count": 477,
     "metadata": {},
     "output_type": "execute_result"
    }
   ],
   "source": [
    "four[0].c_val"
   ]
  },
  {
   "cell_type": "code",
   "execution_count": 478,
   "metadata": {},
   "outputs": [
    {
     "data": {
      "text/plain": [
       "['START', 'PP', 'VBP', 'NP', 'NP']"
      ]
     },
     "execution_count": 478,
     "metadata": {},
     "output_type": "execute_result"
    }
   ],
   "source": [
    "four[0].tags"
   ]
  },
  {
   "cell_type": "code",
   "execution_count": 485,
   "metadata": {},
   "outputs": [],
   "source": [
    "def runner(my_test_str=\"Pierre Vinken , 61 years old , will join the board as a nonexecutive director Nov.\"):\n",
    "    my_test_str = my_test_str.split(\" \")\n",
    "    plis = step(my_test_str[0])\n",
    "    for i in range(1,len(my_test_str)):\n",
    "        plis = step(my_test_str[i],plis)\n",
    "    \n",
    "    mmax = 0\n",
    "    for i in plis:\n",
    "        if(i.get_c_val() > mmax):\n",
    "            ref = i\n",
    "            mmax = i.get_c_val()\n",
    "    return ref"
   ]
  },
  {
   "cell_type": "code",
   "execution_count": 491,
   "metadata": {},
   "outputs": [],
   "source": [
    "l = runner(\"Hey there ! I am Sarvesh Bhatnagar and this is my POS tagger .\")"
   ]
  },
  {
   "cell_type": "code",
   "execution_count": 492,
   "metadata": {},
   "outputs": [
    {
     "data": {
      "text/plain": [
       "['START',\n",
       " 'NP',\n",
       " 'RB',\n",
       " 'NN',\n",
       " 'PP',\n",
       " 'VBP',\n",
       " 'NP',\n",
       " 'NP',\n",
       " 'CC',\n",
       " 'DT',\n",
       " 'VBZ',\n",
       " 'PP$',\n",
       " 'NP',\n",
       " 'NN',\n",
       " '.']"
      ]
     },
     "execution_count": 492,
     "metadata": {},
     "output_type": "execute_result"
    }
   ],
   "source": [
    "l.tags"
   ]
  },
  {
   "cell_type": "code",
   "execution_count": null,
   "metadata": {},
   "outputs": [],
   "source": []
  }
 ],
 "metadata": {
  "kernelspec": {
   "display_name": "Python 3.7.4 64-bit ('base': conda)",
   "language": "python",
   "name": "python37464bitbaseconda99bcb4b0a0be4110a87e42072b64ae25"
  },
  "language_info": {
   "codemirror_mode": {
    "name": "ipython",
    "version": 3
   },
   "file_extension": ".py",
   "mimetype": "text/x-python",
   "name": "python",
   "nbconvert_exporter": "python",
   "pygments_lexer": "ipython3",
   "version": "3.7.4"
  }
 },
 "nbformat": 4,
 "nbformat_minor": 4
}
